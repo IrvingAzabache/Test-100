{
  "nbformat": 4,
  "nbformat_minor": 0,
  "metadata": {
    "colab": {
      "provenance": [],
      "authorship_tag": "ABX9TyPPVCooYjJBhBo0ZuuipzxR",
      "include_colab_link": true
    },
    "kernelspec": {
      "name": "python3",
      "display_name": "Python 3"
    },
    "language_info": {
      "name": "python"
    }
  },
  "cells": [
    {
      "cell_type": "markdown",
      "metadata": {
        "id": "view-in-github",
        "colab_type": "text"
      },
      "source": [
        "<a href=\"https://colab.research.google.com/github/IrvingAzabache/Test-100/blob/main/Introduccion.ipynb\" target=\"_parent\"><img src=\"https://colab.research.google.com/assets/colab-badge.svg\" alt=\"Open In Colab\"/></a>"
      ]
    },
    {
      "cell_type": "code",
      "execution_count": 1,
      "metadata": {
        "colab": {
          "base_uri": "https://localhost:8080/"
        },
        "id": "yGQRH_2h0uTI",
        "outputId": "cc9a7a1d-fa7c-41e3-a541-930a33d12e6f"
      },
      "outputs": [
        {
          "output_type": "stream",
          "name": "stdout",
          "text": [
            "Hola Mundo\n"
          ]
        }
      ],
      "source": [
        "print('Hola Mundo')"
      ]
    },
    {
      "cell_type": "code",
      "source": [
        "print('bye bye...')"
      ],
      "metadata": {
        "id": "ZvTbbdtq5HMI",
        "outputId": "fc9fbb8e-1374-4299-fd5b-7980664084d6",
        "colab": {
          "base_uri": "https://localhost:8080/"
        }
      },
      "execution_count": 2,
      "outputs": [
        {
          "output_type": "stream",
          "name": "stdout",
          "text": [
            "bye bye...\n"
          ]
        }
      ]
    }
  ]
}